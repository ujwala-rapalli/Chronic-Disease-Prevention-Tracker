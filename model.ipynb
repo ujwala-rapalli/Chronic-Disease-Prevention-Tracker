{
  "cells": [
    {
      "cell_type": "code",
      "execution_count": 26,
      "metadata": {
        "id": "ZBa6DmmgmA2l"
      },
      "outputs": [],
      "source": [
        "import pandas as pd\n",
        "df_pima = pd.read_csv(\"pima_diabetes.csv\")\n",
        "df_health = pd.read_csv(\"diabetes_health_indicators.csv\")\n",
        "df_cardio = pd.read_csv(\"cardio_data.csv\")\n",
        "df_ckd = pd.read_csv(\"ckd.csv\")\n",
        "df_nhanes = pd.read_csv(\"nhanes.csv\")\n"
      ]
    },
    {
      "cell_type": "code",
      "execution_count": null,
      "metadata": {},
      "outputs": [],
      "source": []
    },
    {
      "cell_type": "code",
      "execution_count": 27,
      "metadata": {
        "colab": {
          "base_uri": "https://localhost:8080/"
        },
        "id": "ZgvBXo6epYyg",
        "outputId": "5191f9ba-c817-44de-d893-1a9f9fba9063"
      },
      "outputs": [
        {
          "name": "stdout",
          "output_type": "stream",
          "text": [
            "   Pregnancies  Glucose  BloodPressure  SkinThickness  Insulin   BMI  \\\n",
            "0            6      148             72             35        0  33.6   \n",
            "1            1       85             66             29        0  26.6   \n",
            "2            8      183             64              0        0  23.3   \n",
            "3            1       89             66             23       94  28.1   \n",
            "4            0      137             40             35      168  43.1   \n",
            "\n",
            "   DiabetesPedigreeFunction  Age  Outcome  \n",
            "0                     0.627   50        1  \n",
            "1                     0.351   31        0  \n",
            "2                     0.672   32        1  \n",
            "3                     0.167   21        0  \n",
            "4                     2.288   33        1  \n",
            "   Diabetes_012  HighBP  HighChol  CholCheck   BMI  Smoker  Stroke  \\\n",
            "0           0.0     1.0       1.0        1.0  40.0     1.0     0.0   \n",
            "1           0.0     0.0       0.0        0.0  25.0     1.0     0.0   \n",
            "2           0.0     1.0       1.0        1.0  28.0     0.0     0.0   \n",
            "3           0.0     1.0       0.0        1.0  27.0     0.0     0.0   \n",
            "4           0.0     1.0       1.0        1.0  24.0     0.0     0.0   \n",
            "\n",
            "   HeartDiseaseorAttack  PhysActivity  Fruits  ...  AnyHealthcare  \\\n",
            "0                   0.0           0.0     0.0  ...            1.0   \n",
            "1                   0.0           1.0     0.0  ...            0.0   \n",
            "2                   0.0           0.0     1.0  ...            1.0   \n",
            "3                   0.0           1.0     1.0  ...            1.0   \n",
            "4                   0.0           1.0     1.0  ...            1.0   \n",
            "\n",
            "   NoDocbcCost  GenHlth  MentHlth  PhysHlth  DiffWalk  Sex   Age  Education  \\\n",
            "0          0.0      5.0      18.0      15.0       1.0  0.0   9.0        4.0   \n",
            "1          1.0      3.0       0.0       0.0       0.0  0.0   7.0        6.0   \n",
            "2          1.0      5.0      30.0      30.0       1.0  0.0   9.0        4.0   \n",
            "3          0.0      2.0       0.0       0.0       0.0  0.0  11.0        3.0   \n",
            "4          0.0      2.0       3.0       0.0       0.0  0.0  11.0        5.0   \n",
            "\n",
            "   Income  \n",
            "0     3.0  \n",
            "1     1.0  \n",
            "2     8.0  \n",
            "3     6.0  \n",
            "4     4.0  \n",
            "\n",
            "[5 rows x 22 columns]\n",
            "  id;age;gender;height;weight;ap_hi;ap_lo;cholesterol;gluc;smoke;alco;active;cardio\n",
            "0              0;18393;2;168;62.0;110;80;1;1;0;0;1;0                               \n",
            "1              1;20228;1;156;85.0;140;90;3;1;0;0;1;1                               \n",
            "2              2;18857;1;165;64.0;130;70;3;1;0;0;0;1                               \n",
            "3             3;17623;2;169;82.0;150;100;1;1;0;0;1;1                               \n",
            "4              4;17474;1;156;56.0;100;60;1;1;0;0;0;0                               \n",
            "   id   age    bp     sg   al   su     rbc        pc         pcc          ba  \\\n",
            "0   0  48.0  80.0  1.020  1.0  0.0     NaN    normal  notpresent  notpresent   \n",
            "1   1   7.0  50.0  1.020  4.0  0.0     NaN    normal  notpresent  notpresent   \n",
            "2   2  62.0  80.0  1.010  2.0  3.0  normal    normal  notpresent  notpresent   \n",
            "3   3  48.0  70.0  1.005  4.0  0.0  normal  abnormal     present  notpresent   \n",
            "4   4  51.0  80.0  1.010  2.0  0.0  normal    normal  notpresent  notpresent   \n",
            "\n",
            "   ...  pcv    wc   rc  htn   dm  cad appet   pe  ane classification  \n",
            "0  ...   44  7800  5.2  yes  yes   no  good   no   no            ckd  \n",
            "1  ...   38  6000  NaN   no   no   no  good   no   no            ckd  \n",
            "2  ...   31  7500  NaN   no  yes   no  poor   no  yes            ckd  \n",
            "3  ...   32  6700  3.9  yes   no   no  poor  yes  yes            ckd  \n",
            "4  ...   35  7300  4.6   no   no   no  good   no   no            ckd  \n",
            "\n",
            "[5 rows x 26 columns]\n",
            "    SEQN  SDDSRVYR  RIDSTATR  RIAGENDR  RIDAGEYR  RIDAGEMN  RIDRETH1  \\\n",
            "0  73557         8         2         1        69       NaN         4   \n",
            "1  73558         8         2         1        54       NaN         3   \n",
            "2  73559         8         2         1        72       NaN         3   \n",
            "3  73560         8         2         1         9       NaN         3   \n",
            "4  73561         8         2         2        73       NaN         3   \n",
            "\n",
            "   RIDRETH3  RIDEXMON  RIDEXAGM  ...  DMDHREDU  DMDHRMAR  DMDHSEDU  \\\n",
            "0         4       1.0       NaN  ...       3.0       4.0       NaN   \n",
            "1         3       1.0       NaN  ...       3.0       1.0       1.0   \n",
            "2         3       2.0       NaN  ...       4.0       1.0       3.0   \n",
            "3         3       1.0     119.0  ...       3.0       1.0       4.0   \n",
            "4         3       1.0       NaN  ...       5.0       1.0       5.0   \n",
            "\n",
            "       WTINT2YR      WTMEC2YR  SDMVPSU  SDMVSTRA  INDHHIN2  INDFMIN2  INDFMPIR  \n",
            "0  13281.237386  13481.042095        1       112       4.0       4.0      0.84  \n",
            "1  23682.057386  24471.769625        1       108       7.0       7.0      1.78  \n",
            "2  57214.803319  57193.285376        1       109      10.0      10.0      4.51  \n",
            "3  55201.178592  55766.512438        2       109       9.0       9.0      2.52  \n",
            "4  63709.667069  65541.871229        2       116      15.0      15.0      5.00  \n",
            "\n",
            "[5 rows x 47 columns]\n"
          ]
        }
      ],
      "source": [
        "print(df_pima.head());\n",
        "print(df_health.head());\n",
        "print(df_cardio.head());\n",
        "print(df_ckd.head());\n",
        "print(df_nhanes.head());"
      ]
    },
    {
      "cell_type": "code",
      "execution_count": 12,
      "metadata": {
        "id": "7lIH6Hfapr2F"
      },
      "outputs": [],
      "source": [
        "df_pima = df_pima.rename(columns={\n",
        "    'Glucose': 'Fasting_Glucose',\n",
        "    'BloodPressure': 'Systolic_BP',  # Assuming this is systolic\n",
        "    'BMI': 'BMI',\n",
        "    'Age': 'Age',\n",
        "    'Outcome': 'Diabetes_Risk'\n",
        "})\n",
        "\n",
        "df_pima_clean = df_pima[['Fasting_Glucose', 'Systolic_BP', 'BMI', 'Age', 'Diabetes_Risk']]\n"
      ]
    },
    {
      "cell_type": "code",
      "execution_count": 23,
      "metadata": {
        "colab": {
          "base_uri": "https://localhost:8080/"
        },
        "id": "oRz8h4y1rM6Y",
        "outputId": "48cef6be-cf11-4cdb-fbf9-53066a34356a"
      },
      "outputs": [
        {
          "name": "stdout",
          "output_type": "stream",
          "text": [
            "['Diabetes_Risk', 'Hypertension_Risk', 'HighChol', 'CholCheck', 'BMI', 'Smoking', 'Stroke', 'HeartDiseaseorAttack', 'Physical_Activity', 'Fruits', 'Veggies', 'HvyAlcoholConsump', 'AnyHealthcare', 'NoDocbcCost', 'GenHlth', 'MentHlth', 'PhysHlth', 'DiffWalk', 'Sex', 'Age', 'Education', 'Income']\n"
          ]
        }
      ],
      "source": [
        "# print(df_health.head())\n",
        "print(list(df_health.columns))\n"
      ]
    },
    {
      "cell_type": "code",
      "execution_count": 24,
      "metadata": {
        "id": "EfGmwyILqW7W"
      },
      "outputs": [],
      "source": [
        "df_health_clean = df_health.rename(columns={\n",
        "    'BMI': 'BMI',\n",
        "    'Smoking': 'Smoking',\n",
        "    'HvyAlcoholConsump': 'Alcohol',\n",
        "    'Physical_Activity': 'Physical_Activity',\n",
        "    'Hypertension_Risk': 'Hypertension_Risk',\n",
        "    'Diabetes_Risk': 'Diabetes_Risk',\n",
        "    'Age': 'Age'\n",
        "})[['BMI', 'Smoking', 'Alcohol', 'Physical_Activity', 'Hypertension_Risk', 'Diabetes_Risk', 'Age']]\n",
        "\n"
      ]
    },
    {
      "cell_type": "code",
      "execution_count": 29,
      "metadata": {
        "colab": {
          "base_uri": "https://localhost:8080/"
        },
        "id": "KAIXePBfuPiK",
        "outputId": "ba459aec-7aba-4021-e668-2370183a4807"
      },
      "outputs": [
        {
          "name": "stdout",
          "output_type": "stream",
          "text": [
            "Index(['id;age;gender;height;weight;ap_hi;ap_lo;cholesterol;gluc;smoke;alco;active;cardio'], dtype='object')\n"
          ]
        }
      ],
      "source": [
        "print(df_cardio.columns)"
      ]
    },
    {
      "cell_type": "code",
      "execution_count": 31,
      "metadata": {
        "id": "z0ylp8X9qul_"
      },
      "outputs": [],
      "source": [
        "df_cardio = pd.read_csv('cardio_data.csv', sep=';')  # Important!\n",
        "\n",
        "df_cardio = df_cardio.rename(columns={\n",
        "    'ap_hi': 'Systolic_BP',\n",
        "    'ap_lo': 'Diastolic_BP',\n",
        "    'cholesterol': 'Cholesterol_Level',\n",
        "    'age': 'Age_Days',\n",
        "    'cardio': 'Cardio_Risk',\n",
        "    'smoke': 'Smoking',\n",
        "    'alco': 'Alcohol',\n",
        "    'active': 'Physical_Activity'\n",
        "})\n",
        "\n",
        "df_cardio['Age'] = df_cardio['Age_Days'] // 365\n",
        "df_cardio_clean = df_cardio[['Systolic_BP', 'Diastolic_BP', 'Cholesterol_Level', 'Smoking', 'Alcohol', 'Physical_Activity', 'Age', 'Cardio_Risk']]\n"
      ]
    },
    {
      "cell_type": "code",
      "execution_count": 33,
      "metadata": {
        "id": "PiLHErX6uCVb"
      },
      "outputs": [],
      "source": [
        "df_ckd = df_ckd.rename(columns={\n",
        "    'bp': 'Systolic_BP',\n",
        "    'age': 'Age',\n",
        "    'bgr': 'Fasting_Glucose',\n",
        "    'classification': 'CKD_Risk'\n",
        "})\n",
        "\n",
        "# Replace 'ckd'/'notckd' with 1/0\n",
        "df_ckd['CKD_Risk'] = df_ckd['CKD_Risk'].map({'ckd': 1, 'notckd': 0})\n",
        "\n",
        "df_ckd_clean = df_ckd[['Systolic_BP', 'Fasting_Glucose', 'Age', 'CKD_Risk']]\n"
      ]
    },
    {
      "cell_type": "code",
      "execution_count": 34,
      "metadata": {
        "id": "CF2qXqqNuo18"
      },
      "outputs": [],
      "source": [
        "df_nhanes_clean = df_nhanes.rename(columns={\n",
        "    'RIAGENDR': 'Gender',\n",
        "    'RIDAGEYR': 'Age',\n",
        "    'INDFMPIR': 'Income',\n",
        "})\n",
        "\n",
        "df_nhanes_clean = df_nhanes_clean[['Gender', 'Age', 'Income']]\n"
      ]
    },
    {
      "cell_type": "code",
      "execution_count": 52,
      "metadata": {
        "colab": {
          "base_uri": "https://localhost:8080/"
        },
        "id": "_H-nYDrZupg_",
        "outputId": "9c94f9fa-ffaa-4402-b9d0-67db0b0ffbf0"
      },
      "outputs": [
        {
          "name": "stderr",
          "output_type": "stream",
          "text": [
            "/tmp/ipython-input-52-2929300582.py:15: FutureWarning: The behavior of DataFrame concatenation with empty or all-NA entries is deprecated. In a future version, this will no longer exclude empty or all-NA columns when determining the result dtypes. To retain the old behavior, exclude the relevant entries before the concat operation.\n",
            "  df_final = pd.concat(df_aligned, ignore_index=True)\n"
          ]
        }
      ],
      "source": [
        "from functools import reduce\n",
        "\n",
        "# Add missing columns in each dataset with default value\n",
        "all_columns = set(df_pima_clean.columns) | set(df_health_clean.columns) | set(df_cardio_clean.columns) | set(df_ckd_clean.columns) | set(df_nhanes_clean.columns)\n",
        "\n",
        "def align_columns(df):\n",
        "    for col in all_columns:\n",
        "        if col not in df.columns:\n",
        "            df[col] = pd.NA\n",
        "    return df[sorted(all_columns)]\n",
        "\n",
        "df_list = [df_pima_clean, df_health_clean, df_cardio_clean, df_ckd_clean, df_nhanes_clean]\n",
        "df_aligned = [align_columns(df) for df in df_list]\n",
        "\n",
        "df_final = pd.concat(df_aligned, ignore_index=True)\n"
      ]
    },
    {
      "cell_type": "code",
      "execution_count": 53,
      "metadata": {
        "colab": {
          "base_uri": "https://localhost:8080/"
        },
        "id": "ES9sLgOius6z",
        "outputId": "4acd3574-8b40-4d41-f50c-0a6699d852ba"
      },
      "outputs": [
        {
          "name": "stdout",
          "output_type": "stream",
          "text": [
            "Saved as chronic_disease.csv with shape: (335023, 15)\n"
          ]
        }
      ],
      "source": [
        "df_final.to_csv('chronic_disease.csv', index=False)\n",
        "print(\"Saved as chronic_disease.csv with shape:\", df_final.shape)\n"
      ]
    },
    {
      "cell_type": "code",
      "execution_count": 57,
      "metadata": {
        "colab": {
          "base_uri": "https://localhost:8080/"
        },
        "id": "zeG5lE6HuxRq",
        "outputId": "4323bb3c-d05f-45c3-bf54-0873c0351728"
      },
      "outputs": [
        {
          "name": "stdout",
          "output_type": "stream",
          "text": [
            "Index(['Age', 'Alcohol', 'BMI', 'CKD_Risk', 'Cardio_Risk', 'Cholesterol_Level',\n",
            "       'Diabetes_Risk', 'Diastolic_BP', 'Fasting_Glucose', 'Gender',\n",
            "       'Hypertension_Risk', 'Income', 'Physical_Activity', 'Smoking',\n",
            "       'Systolic_BP'],\n",
            "      dtype='object')\n"
          ]
        }
      ],
      "source": [
        "print(df_final.columns)"
      ]
    },
    {
      "cell_type": "code",
      "execution_count": 67,
      "metadata": {
        "colab": {
          "base_uri": "https://localhost:8080/",
          "height": 554
        },
        "id": "u3KFdufiu6bs",
        "outputId": "f954cfed-1459-430b-87de-47bf5718fbda"
      },
      "outputs": [
        {
          "data": {
            "text/html": [
              "<div>\n",
              "<style scoped>\n",
              "    .dataframe tbody tr th:only-of-type {\n",
              "        vertical-align: middle;\n",
              "    }\n",
              "\n",
              "    .dataframe tbody tr th {\n",
              "        vertical-align: top;\n",
              "    }\n",
              "\n",
              "    .dataframe thead th {\n",
              "        text-align: right;\n",
              "    }\n",
              "</style>\n",
              "<table border=\"1\" class=\"dataframe\">\n",
              "  <thead>\n",
              "    <tr style=\"text-align: right;\">\n",
              "      <th></th>\n",
              "      <th>0</th>\n",
              "    </tr>\n",
              "  </thead>\n",
              "  <tbody>\n",
              "    <tr>\n",
              "      <th>Age</th>\n",
              "      <td>9</td>\n",
              "    </tr>\n",
              "    <tr>\n",
              "      <th>Alcohol</th>\n",
              "      <td>11343</td>\n",
              "    </tr>\n",
              "    <tr>\n",
              "      <th>BMI</th>\n",
              "      <td>80575</td>\n",
              "    </tr>\n",
              "    <tr>\n",
              "      <th>CKD_Risk</th>\n",
              "      <td>335023</td>\n",
              "    </tr>\n",
              "    <tr>\n",
              "      <th>Cardio_Risk</th>\n",
              "      <td>265023</td>\n",
              "    </tr>\n",
              "    <tr>\n",
              "      <th>Cholesterol_Level</th>\n",
              "      <td>265023</td>\n",
              "    </tr>\n",
              "    <tr>\n",
              "      <th>Diabetes_Risk</th>\n",
              "      <td>80575</td>\n",
              "    </tr>\n",
              "    <tr>\n",
              "      <th>Diastolic_BP</th>\n",
              "      <td>265023</td>\n",
              "    </tr>\n",
              "    <tr>\n",
              "      <th>Fasting_Glucose</th>\n",
              "      <td>333899</td>\n",
              "    </tr>\n",
              "    <tr>\n",
              "      <th>Gender</th>\n",
              "      <td>324848</td>\n",
              "    </tr>\n",
              "    <tr>\n",
              "      <th>Hypertension_Risk</th>\n",
              "      <td>81343</td>\n",
              "    </tr>\n",
              "    <tr>\n",
              "      <th>Income</th>\n",
              "      <td>325633</td>\n",
              "    </tr>\n",
              "    <tr>\n",
              "      <th>Physical_Activity</th>\n",
              "      <td>11343</td>\n",
              "    </tr>\n",
              "    <tr>\n",
              "      <th>Smoking</th>\n",
              "      <td>11343</td>\n",
              "    </tr>\n",
              "    <tr>\n",
              "      <th>Systolic_BP</th>\n",
              "      <td>263867</td>\n",
              "    </tr>\n",
              "  </tbody>\n",
              "</table>\n",
              "</div><br><label><b>dtype:</b> int64</label>"
            ],
            "text/plain": [
              "Age                       9\n",
              "Alcohol               11343\n",
              "BMI                   80575\n",
              "CKD_Risk             335023\n",
              "Cardio_Risk          265023\n",
              "Cholesterol_Level    265023\n",
              "Diabetes_Risk         80575\n",
              "Diastolic_BP         265023\n",
              "Fasting_Glucose      333899\n",
              "Gender               324848\n",
              "Hypertension_Risk     81343\n",
              "Income               325633\n",
              "Physical_Activity     11343\n",
              "Smoking               11343\n",
              "Systolic_BP          263867\n",
              "dtype: int64"
            ]
          },
          "execution_count": 67,
          "metadata": {},
          "output_type": "execute_result"
        }
      ],
      "source": [
        "df_final.isnull().sum()\n"
      ]
    },
    {
      "cell_type": "code",
      "execution_count": 68,
      "metadata": {
        "colab": {
          "base_uri": "https://localhost:8080/"
        },
        "id": "G3BZvXMbvVLQ",
        "outputId": "1abb07c6-b936-480c-fcb8-870a16608900"
      },
      "outputs": [
        {
          "data": {
            "text/plain": [
              "(335023, 15)"
            ]
          },
          "execution_count": 68,
          "metadata": {},
          "output_type": "execute_result"
        }
      ],
      "source": [
        "df_final.shape"
      ]
    },
    {
      "cell_type": "code",
      "execution_count": 73,
      "metadata": {
        "colab": {
          "base_uri": "https://localhost:8080/",
          "height": 226
        },
        "id": "Ul6zrB-p2A_V",
        "outputId": "c0f21518-e665-415f-f975-dfc4952a1d32"
      },
      "outputs": [
        {
          "data": {
            "application/vnd.google.colaboratory.intrinsic+json": {
              "type": "dataframe",
              "variable_name": "df_final"
            },
            "text/html": [
              "\n",
              "  <div id=\"df-ffb7cefd-c492-47b5-a30c-42bbd358d190\" class=\"colab-df-container\">\n",
              "    <div>\n",
              "<style scoped>\n",
              "    .dataframe tbody tr th:only-of-type {\n",
              "        vertical-align: middle;\n",
              "    }\n",
              "\n",
              "    .dataframe tbody tr th {\n",
              "        vertical-align: top;\n",
              "    }\n",
              "\n",
              "    .dataframe thead th {\n",
              "        text-align: right;\n",
              "    }\n",
              "</style>\n",
              "<table border=\"1\" class=\"dataframe\">\n",
              "  <thead>\n",
              "    <tr style=\"text-align: right;\">\n",
              "      <th></th>\n",
              "      <th>Age</th>\n",
              "      <th>Alcohol</th>\n",
              "      <th>BMI</th>\n",
              "      <th>CKD_Risk</th>\n",
              "      <th>Cardio_Risk</th>\n",
              "      <th>Cholesterol_Level</th>\n",
              "      <th>Diabetes_Risk</th>\n",
              "      <th>Diastolic_BP</th>\n",
              "      <th>Fasting_Glucose</th>\n",
              "      <th>Gender</th>\n",
              "      <th>Hypertension_Risk</th>\n",
              "      <th>Income</th>\n",
              "      <th>Physical_Activity</th>\n",
              "      <th>Smoking</th>\n",
              "      <th>Systolic_BP</th>\n",
              "    </tr>\n",
              "  </thead>\n",
              "  <tbody>\n",
              "    <tr>\n",
              "      <th>0</th>\n",
              "      <td>50.0</td>\n",
              "      <td>NaN</td>\n",
              "      <td>33.6</td>\n",
              "      <td>NaN</td>\n",
              "      <td>&lt;NA&gt;</td>\n",
              "      <td>&lt;NA&gt;</td>\n",
              "      <td>1.0</td>\n",
              "      <td>&lt;NA&gt;</td>\n",
              "      <td>148.0</td>\n",
              "      <td>&lt;NA&gt;</td>\n",
              "      <td>NaN</td>\n",
              "      <td>NaN</td>\n",
              "      <td>NaN</td>\n",
              "      <td>NaN</td>\n",
              "      <td>72.0</td>\n",
              "    </tr>\n",
              "    <tr>\n",
              "      <th>1</th>\n",
              "      <td>31.0</td>\n",
              "      <td>NaN</td>\n",
              "      <td>26.6</td>\n",
              "      <td>NaN</td>\n",
              "      <td>&lt;NA&gt;</td>\n",
              "      <td>&lt;NA&gt;</td>\n",
              "      <td>0.0</td>\n",
              "      <td>&lt;NA&gt;</td>\n",
              "      <td>85.0</td>\n",
              "      <td>&lt;NA&gt;</td>\n",
              "      <td>NaN</td>\n",
              "      <td>NaN</td>\n",
              "      <td>NaN</td>\n",
              "      <td>NaN</td>\n",
              "      <td>66.0</td>\n",
              "    </tr>\n",
              "    <tr>\n",
              "      <th>2</th>\n",
              "      <td>32.0</td>\n",
              "      <td>NaN</td>\n",
              "      <td>23.3</td>\n",
              "      <td>NaN</td>\n",
              "      <td>&lt;NA&gt;</td>\n",
              "      <td>&lt;NA&gt;</td>\n",
              "      <td>1.0</td>\n",
              "      <td>&lt;NA&gt;</td>\n",
              "      <td>183.0</td>\n",
              "      <td>&lt;NA&gt;</td>\n",
              "      <td>NaN</td>\n",
              "      <td>NaN</td>\n",
              "      <td>NaN</td>\n",
              "      <td>NaN</td>\n",
              "      <td>64.0</td>\n",
              "    </tr>\n",
              "    <tr>\n",
              "      <th>3</th>\n",
              "      <td>21.0</td>\n",
              "      <td>NaN</td>\n",
              "      <td>28.1</td>\n",
              "      <td>NaN</td>\n",
              "      <td>&lt;NA&gt;</td>\n",
              "      <td>&lt;NA&gt;</td>\n",
              "      <td>0.0</td>\n",
              "      <td>&lt;NA&gt;</td>\n",
              "      <td>89.0</td>\n",
              "      <td>&lt;NA&gt;</td>\n",
              "      <td>NaN</td>\n",
              "      <td>NaN</td>\n",
              "      <td>NaN</td>\n",
              "      <td>NaN</td>\n",
              "      <td>66.0</td>\n",
              "    </tr>\n",
              "    <tr>\n",
              "      <th>4</th>\n",
              "      <td>33.0</td>\n",
              "      <td>NaN</td>\n",
              "      <td>43.1</td>\n",
              "      <td>NaN</td>\n",
              "      <td>&lt;NA&gt;</td>\n",
              "      <td>&lt;NA&gt;</td>\n",
              "      <td>1.0</td>\n",
              "      <td>&lt;NA&gt;</td>\n",
              "      <td>137.0</td>\n",
              "      <td>&lt;NA&gt;</td>\n",
              "      <td>NaN</td>\n",
              "      <td>NaN</td>\n",
              "      <td>NaN</td>\n",
              "      <td>NaN</td>\n",
              "      <td>40.0</td>\n",
              "    </tr>\n",
              "  </tbody>\n",
              "</table>\n",
              "</div>\n",
              "    <div class=\"colab-df-buttons\">\n",
              "\n",
              "  <div class=\"colab-df-container\">\n",
              "    <button class=\"colab-df-convert\" onclick=\"convertToInteractive('df-ffb7cefd-c492-47b5-a30c-42bbd358d190')\"\n",
              "            title=\"Convert this dataframe to an interactive table.\"\n",
              "            style=\"display:none;\">\n",
              "\n",
              "  <svg xmlns=\"http://www.w3.org/2000/svg\" height=\"24px\" viewBox=\"0 -960 960 960\">\n",
              "    <path d=\"M120-120v-720h720v720H120Zm60-500h600v-160H180v160Zm220 220h160v-160H400v160Zm0 220h160v-160H400v160ZM180-400h160v-160H180v160Zm440 0h160v-160H620v160ZM180-180h160v-160H180v160Zm440 0h160v-160H620v160Z\"/>\n",
              "  </svg>\n",
              "    </button>\n",
              "\n",
              "  <style>\n",
              "    .colab-df-container {\n",
              "      display:flex;\n",
              "      gap: 12px;\n",
              "    }\n",
              "\n",
              "    .colab-df-convert {\n",
              "      background-color: #E8F0FE;\n",
              "      border: none;\n",
              "      border-radius: 50%;\n",
              "      cursor: pointer;\n",
              "      display: none;\n",
              "      fill: #1967D2;\n",
              "      height: 32px;\n",
              "      padding: 0 0 0 0;\n",
              "      width: 32px;\n",
              "    }\n",
              "\n",
              "    .colab-df-convert:hover {\n",
              "      background-color: #E2EBFA;\n",
              "      box-shadow: 0px 1px 2px rgba(60, 64, 67, 0.3), 0px 1px 3px 1px rgba(60, 64, 67, 0.15);\n",
              "      fill: #174EA6;\n",
              "    }\n",
              "\n",
              "    .colab-df-buttons div {\n",
              "      margin-bottom: 4px;\n",
              "    }\n",
              "\n",
              "    [theme=dark] .colab-df-convert {\n",
              "      background-color: #3B4455;\n",
              "      fill: #D2E3FC;\n",
              "    }\n",
              "\n",
              "    [theme=dark] .colab-df-convert:hover {\n",
              "      background-color: #434B5C;\n",
              "      box-shadow: 0px 1px 3px 1px rgba(0, 0, 0, 0.15);\n",
              "      filter: drop-shadow(0px 1px 2px rgba(0, 0, 0, 0.3));\n",
              "      fill: #FFFFFF;\n",
              "    }\n",
              "  </style>\n",
              "\n",
              "    <script>\n",
              "      const buttonEl =\n",
              "        document.querySelector('#df-ffb7cefd-c492-47b5-a30c-42bbd358d190 button.colab-df-convert');\n",
              "      buttonEl.style.display =\n",
              "        google.colab.kernel.accessAllowed ? 'block' : 'none';\n",
              "\n",
              "      async function convertToInteractive(key) {\n",
              "        const element = document.querySelector('#df-ffb7cefd-c492-47b5-a30c-42bbd358d190');\n",
              "        const dataTable =\n",
              "          await google.colab.kernel.invokeFunction('convertToInteractive',\n",
              "                                                    [key], {});\n",
              "        if (!dataTable) return;\n",
              "\n",
              "        const docLinkHtml = 'Like what you see? Visit the ' +\n",
              "          '<a target=\"_blank\" href=https://colab.research.google.com/notebooks/data_table.ipynb>data table notebook</a>'\n",
              "          + ' to learn more about interactive tables.';\n",
              "        element.innerHTML = '';\n",
              "        dataTable['output_type'] = 'display_data';\n",
              "        await google.colab.output.renderOutput(dataTable, element);\n",
              "        const docLink = document.createElement('div');\n",
              "        docLink.innerHTML = docLinkHtml;\n",
              "        element.appendChild(docLink);\n",
              "      }\n",
              "    </script>\n",
              "  </div>\n",
              "\n",
              "\n",
              "    <div id=\"df-c9b2d66d-250c-4fdb-8780-548b169fa340\">\n",
              "      <button class=\"colab-df-quickchart\" onclick=\"quickchart('df-c9b2d66d-250c-4fdb-8780-548b169fa340')\"\n",
              "                title=\"Suggest charts\"\n",
              "                style=\"display:none;\">\n",
              "\n",
              "<svg xmlns=\"http://www.w3.org/2000/svg\" height=\"24px\"viewBox=\"0 0 24 24\"\n",
              "     width=\"24px\">\n",
              "    <g>\n",
              "        <path d=\"M19 3H5c-1.1 0-2 .9-2 2v14c0 1.1.9 2 2 2h14c1.1 0 2-.9 2-2V5c0-1.1-.9-2-2-2zM9 17H7v-7h2v7zm4 0h-2V7h2v10zm4 0h-2v-4h2v4z\"/>\n",
              "    </g>\n",
              "</svg>\n",
              "      </button>\n",
              "\n",
              "<style>\n",
              "  .colab-df-quickchart {\n",
              "      --bg-color: #E8F0FE;\n",
              "      --fill-color: #1967D2;\n",
              "      --hover-bg-color: #E2EBFA;\n",
              "      --hover-fill-color: #174EA6;\n",
              "      --disabled-fill-color: #AAA;\n",
              "      --disabled-bg-color: #DDD;\n",
              "  }\n",
              "\n",
              "  [theme=dark] .colab-df-quickchart {\n",
              "      --bg-color: #3B4455;\n",
              "      --fill-color: #D2E3FC;\n",
              "      --hover-bg-color: #434B5C;\n",
              "      --hover-fill-color: #FFFFFF;\n",
              "      --disabled-bg-color: #3B4455;\n",
              "      --disabled-fill-color: #666;\n",
              "  }\n",
              "\n",
              "  .colab-df-quickchart {\n",
              "    background-color: var(--bg-color);\n",
              "    border: none;\n",
              "    border-radius: 50%;\n",
              "    cursor: pointer;\n",
              "    display: none;\n",
              "    fill: var(--fill-color);\n",
              "    height: 32px;\n",
              "    padding: 0;\n",
              "    width: 32px;\n",
              "  }\n",
              "\n",
              "  .colab-df-quickchart:hover {\n",
              "    background-color: var(--hover-bg-color);\n",
              "    box-shadow: 0 1px 2px rgba(60, 64, 67, 0.3), 0 1px 3px 1px rgba(60, 64, 67, 0.15);\n",
              "    fill: var(--button-hover-fill-color);\n",
              "  }\n",
              "\n",
              "  .colab-df-quickchart-complete:disabled,\n",
              "  .colab-df-quickchart-complete:disabled:hover {\n",
              "    background-color: var(--disabled-bg-color);\n",
              "    fill: var(--disabled-fill-color);\n",
              "    box-shadow: none;\n",
              "  }\n",
              "\n",
              "  .colab-df-spinner {\n",
              "    border: 2px solid var(--fill-color);\n",
              "    border-color: transparent;\n",
              "    border-bottom-color: var(--fill-color);\n",
              "    animation:\n",
              "      spin 1s steps(1) infinite;\n",
              "  }\n",
              "\n",
              "  @keyframes spin {\n",
              "    0% {\n",
              "      border-color: transparent;\n",
              "      border-bottom-color: var(--fill-color);\n",
              "      border-left-color: var(--fill-color);\n",
              "    }\n",
              "    20% {\n",
              "      border-color: transparent;\n",
              "      border-left-color: var(--fill-color);\n",
              "      border-top-color: var(--fill-color);\n",
              "    }\n",
              "    30% {\n",
              "      border-color: transparent;\n",
              "      border-left-color: var(--fill-color);\n",
              "      border-top-color: var(--fill-color);\n",
              "      border-right-color: var(--fill-color);\n",
              "    }\n",
              "    40% {\n",
              "      border-color: transparent;\n",
              "      border-right-color: var(--fill-color);\n",
              "      border-top-color: var(--fill-color);\n",
              "    }\n",
              "    60% {\n",
              "      border-color: transparent;\n",
              "      border-right-color: var(--fill-color);\n",
              "    }\n",
              "    80% {\n",
              "      border-color: transparent;\n",
              "      border-right-color: var(--fill-color);\n",
              "      border-bottom-color: var(--fill-color);\n",
              "    }\n",
              "    90% {\n",
              "      border-color: transparent;\n",
              "      border-bottom-color: var(--fill-color);\n",
              "    }\n",
              "  }\n",
              "</style>\n",
              "\n",
              "      <script>\n",
              "        async function quickchart(key) {\n",
              "          const quickchartButtonEl =\n",
              "            document.querySelector('#' + key + ' button');\n",
              "          quickchartButtonEl.disabled = true;  // To prevent multiple clicks.\n",
              "          quickchartButtonEl.classList.add('colab-df-spinner');\n",
              "          try {\n",
              "            const charts = await google.colab.kernel.invokeFunction(\n",
              "                'suggestCharts', [key], {});\n",
              "          } catch (error) {\n",
              "            console.error('Error during call to suggestCharts:', error);\n",
              "          }\n",
              "          quickchartButtonEl.classList.remove('colab-df-spinner');\n",
              "          quickchartButtonEl.classList.add('colab-df-quickchart-complete');\n",
              "        }\n",
              "        (() => {\n",
              "          let quickchartButtonEl =\n",
              "            document.querySelector('#df-c9b2d66d-250c-4fdb-8780-548b169fa340 button');\n",
              "          quickchartButtonEl.style.display =\n",
              "            google.colab.kernel.accessAllowed ? 'block' : 'none';\n",
              "        })();\n",
              "      </script>\n",
              "    </div>\n",
              "\n",
              "    </div>\n",
              "  </div>\n"
            ],
            "text/plain": [
              "    Age  Alcohol   BMI CKD_Risk Cardio_Risk Cholesterol_Level  Diabetes_Risk  \\\n",
              "0  50.0      NaN  33.6      NaN        <NA>              <NA>            1.0   \n",
              "1  31.0      NaN  26.6      NaN        <NA>              <NA>            0.0   \n",
              "2  32.0      NaN  23.3      NaN        <NA>              <NA>            1.0   \n",
              "3  21.0      NaN  28.1      NaN        <NA>              <NA>            0.0   \n",
              "4  33.0      NaN  43.1      NaN        <NA>              <NA>            1.0   \n",
              "\n",
              "  Diastolic_BP  Fasting_Glucose Gender  Hypertension_Risk  Income  \\\n",
              "0         <NA>            148.0   <NA>                NaN     NaN   \n",
              "1         <NA>             85.0   <NA>                NaN     NaN   \n",
              "2         <NA>            183.0   <NA>                NaN     NaN   \n",
              "3         <NA>             89.0   <NA>                NaN     NaN   \n",
              "4         <NA>            137.0   <NA>                NaN     NaN   \n",
              "\n",
              "   Physical_Activity  Smoking  Systolic_BP  \n",
              "0                NaN      NaN         72.0  \n",
              "1                NaN      NaN         66.0  \n",
              "2                NaN      NaN         64.0  \n",
              "3                NaN      NaN         66.0  \n",
              "4                NaN      NaN         40.0  "
            ]
          },
          "execution_count": 73,
          "metadata": {},
          "output_type": "execute_result"
        }
      ],
      "source": [
        "df_final.head()"
      ]
    },
    {
      "cell_type": "code",
      "execution_count": 70,
      "metadata": {
        "id": "fkyVm_1117Wt"
      },
      "outputs": [],
      "source": [
        "features = ['Age', 'BMI', 'Smoking', 'Alcohol', 'Physical_Activity',\n",
        "            'Systolic_BP', 'Diastolic_BP', 'Fasting_Glucose', 'Income']\n",
        "\n",
        "targets = ['Diabetes_Risk', 'Hypertension_Risk', 'CKD_Risk',\n",
        "           'Cardio_Risk', 'Cholesterol_Level']\n"
      ]
    },
    {
      "cell_type": "code",
      "execution_count": 71,
      "metadata": {
        "colab": {
          "base_uri": "https://localhost:8080/",
          "height": 408
        },
        "id": "mbqoHTgHxm7y",
        "outputId": "ff43ea10-1f7c-4021-e236-5da0600c36a6"
      },
      "outputs": [
        {
          "name": "stdout",
          "output_type": "stream",
          "text": [
            "\n",
            "Training model for Diabetes_Risk...\n"
          ]
        },
        {
          "ename": "ValueError",
          "evalue": "With n_samples=0, test_size=0.2 and train_size=None, the resulting train set will be empty. Adjust any of the aforementioned parameters.",
          "output_type": "error",
          "traceback": [
            "\u001b[0;31m---------------------------------------------------------------------------\u001b[0m",
            "\u001b[0;31mValueError\u001b[0m                                Traceback (most recent call last)",
            "\u001b[0;32m/tmp/ipython-input-71-37459861.py\u001b[0m in \u001b[0;36m<cell line: 0>\u001b[0;34m()\u001b[0m\n\u001b[1;32m     19\u001b[0m \u001b[0;34m\u001b[0m\u001b[0m\n\u001b[1;32m     20\u001b[0m     \u001b[0;31m# Train-Test split\u001b[0m\u001b[0;34m\u001b[0m\u001b[0;34m\u001b[0m\u001b[0m\n\u001b[0;32m---> 21\u001b[0;31m     X_train, X_test, y_train, y_test = train_test_split(\n\u001b[0m\u001b[1;32m     22\u001b[0m         \u001b[0mX\u001b[0m\u001b[0;34m,\u001b[0m \u001b[0my\u001b[0m\u001b[0;34m,\u001b[0m \u001b[0mtest_size\u001b[0m\u001b[0;34m=\u001b[0m\u001b[0;36m0.2\u001b[0m\u001b[0;34m,\u001b[0m \u001b[0mstratify\u001b[0m\u001b[0;34m=\u001b[0m\u001b[0my\u001b[0m\u001b[0;34m,\u001b[0m \u001b[0mrandom_state\u001b[0m\u001b[0;34m=\u001b[0m\u001b[0;36m42\u001b[0m\u001b[0;34m\u001b[0m\u001b[0;34m\u001b[0m\u001b[0m\n\u001b[1;32m     23\u001b[0m     )\n",
            "\u001b[0;32m/usr/local/lib/python3.11/dist-packages/sklearn/utils/_param_validation.py\u001b[0m in \u001b[0;36mwrapper\u001b[0;34m(*args, **kwargs)\u001b[0m\n\u001b[1;32m    214\u001b[0m                     )\n\u001b[1;32m    215\u001b[0m                 ):\n\u001b[0;32m--> 216\u001b[0;31m                     \u001b[0;32mreturn\u001b[0m \u001b[0mfunc\u001b[0m\u001b[0;34m(\u001b[0m\u001b[0;34m*\u001b[0m\u001b[0margs\u001b[0m\u001b[0;34m,\u001b[0m \u001b[0;34m**\u001b[0m\u001b[0mkwargs\u001b[0m\u001b[0;34m)\u001b[0m\u001b[0;34m\u001b[0m\u001b[0;34m\u001b[0m\u001b[0m\n\u001b[0m\u001b[1;32m    217\u001b[0m             \u001b[0;32mexcept\u001b[0m \u001b[0mInvalidParameterError\u001b[0m \u001b[0;32mas\u001b[0m \u001b[0me\u001b[0m\u001b[0;34m:\u001b[0m\u001b[0;34m\u001b[0m\u001b[0;34m\u001b[0m\u001b[0m\n\u001b[1;32m    218\u001b[0m                 \u001b[0;31m# When the function is just a wrapper around an estimator, we allow\u001b[0m\u001b[0;34m\u001b[0m\u001b[0;34m\u001b[0m\u001b[0m\n",
            "\u001b[0;32m/usr/local/lib/python3.11/dist-packages/sklearn/model_selection/_split.py\u001b[0m in \u001b[0;36mtrain_test_split\u001b[0;34m(test_size, train_size, random_state, shuffle, stratify, *arrays)\u001b[0m\n\u001b[1;32m   2849\u001b[0m \u001b[0;34m\u001b[0m\u001b[0m\n\u001b[1;32m   2850\u001b[0m     \u001b[0mn_samples\u001b[0m \u001b[0;34m=\u001b[0m \u001b[0m_num_samples\u001b[0m\u001b[0;34m(\u001b[0m\u001b[0marrays\u001b[0m\u001b[0;34m[\u001b[0m\u001b[0;36m0\u001b[0m\u001b[0;34m]\u001b[0m\u001b[0;34m)\u001b[0m\u001b[0;34m\u001b[0m\u001b[0;34m\u001b[0m\u001b[0m\n\u001b[0;32m-> 2851\u001b[0;31m     n_train, n_test = _validate_shuffle_split(\n\u001b[0m\u001b[1;32m   2852\u001b[0m         \u001b[0mn_samples\u001b[0m\u001b[0;34m,\u001b[0m \u001b[0mtest_size\u001b[0m\u001b[0;34m,\u001b[0m \u001b[0mtrain_size\u001b[0m\u001b[0;34m,\u001b[0m \u001b[0mdefault_test_size\u001b[0m\u001b[0;34m=\u001b[0m\u001b[0;36m0.25\u001b[0m\u001b[0;34m\u001b[0m\u001b[0;34m\u001b[0m\u001b[0m\n\u001b[1;32m   2853\u001b[0m     )\n",
            "\u001b[0;32m/usr/local/lib/python3.11/dist-packages/sklearn/model_selection/_split.py\u001b[0m in \u001b[0;36m_validate_shuffle_split\u001b[0;34m(n_samples, test_size, train_size, default_test_size)\u001b[0m\n\u001b[1;32m   2479\u001b[0m \u001b[0;34m\u001b[0m\u001b[0m\n\u001b[1;32m   2480\u001b[0m     \u001b[0;32mif\u001b[0m \u001b[0mn_train\u001b[0m \u001b[0;34m==\u001b[0m \u001b[0;36m0\u001b[0m\u001b[0;34m:\u001b[0m\u001b[0;34m\u001b[0m\u001b[0;34m\u001b[0m\u001b[0m\n\u001b[0;32m-> 2481\u001b[0;31m         raise ValueError(\n\u001b[0m\u001b[1;32m   2482\u001b[0m             \u001b[0;34m\"With n_samples={}, test_size={} and train_size={}, the \"\u001b[0m\u001b[0;34m\u001b[0m\u001b[0;34m\u001b[0m\u001b[0m\n\u001b[1;32m   2483\u001b[0m             \u001b[0;34m\"resulting train set will be empty. Adjust any of the \"\u001b[0m\u001b[0;34m\u001b[0m\u001b[0;34m\u001b[0m\u001b[0m\n",
            "\u001b[0;31mValueError\u001b[0m: With n_samples=0, test_size=0.2 and train_size=None, the resulting train set will be empty. Adjust any of the aforementioned parameters."
          ]
        }
      ],
      "source": [
        "from xgboost import XGBClassifier\n",
        "from sklearn.model_selection import train_test_split\n",
        "from sklearn.metrics import classification_report, accuracy_score\n",
        "\n",
        "models = {}\n",
        "\n",
        "for target in targets:\n",
        "    print(f\"\\nTraining model for {target}...\")\n",
        "\n",
        "    # Drop NA values for the current target\n",
        "    data = df_final[features + [target]].dropna()\n",
        "\n",
        "    X = data[features]\n",
        "    y = data[target]\n",
        "\n",
        "    # Encode categorical targets if needed\n",
        "    if y.dtype == 'object':\n",
        "        y = y.astype('category').cat.codes\n",
        "\n",
        "    # Train-Test split\n",
        "    X_train, X_test, y_train, y_test = train_test_split(\n",
        "        X, y, test_size=0.2, stratify=y, random_state=42\n",
        "    )\n",
        "\n",
        "    # Model Training\n",
        "    model = XGBClassifier(use_label_encoder=False, eval_metric='logloss')\n",
        "    model.fit(X_train, y_train)\n",
        "\n",
        "    # Evaluation\n",
        "    y_pred = model.predict(X_test)\n",
        "    acc = accuracy_score(y_test, y_pred)\n",
        "    print(f\"Accuracy: {acc:.2f}\")\n",
        "    print(classification_report(y_test, y_pred))\n",
        "\n",
        "    # Save model\n",
        "    models[target] = model\n"
      ]
    },
    {
      "cell_type": "code",
      "execution_count": 74,
      "metadata": {
        "colab": {
          "base_uri": "https://localhost:8080/"
        },
        "id": "tmb5UcBmzE0g",
        "outputId": "9f566498-7489-435a-f9cb-7df17637263a"
      },
      "outputs": [
        {
          "name": "stdout",
          "output_type": "stream",
          "text": [
            "Diabetes_Risk → 0 rows after dropna\n"
          ]
        }
      ],
      "source": [
        "print(f\"{target} → {len(data)} rows after dropna\")\n"
      ]
    },
    {
      "cell_type": "code",
      "execution_count": 79,
      "metadata": {
        "colab": {
          "base_uri": "https://localhost:8080/"
        },
        "id": "mety3xSs2edP",
        "outputId": "d252a4ce-78a4-4526-b30f-624ac1e1d5c2"
      },
      "outputs": [
        {
          "data": {
            "text/plain": [
              "np.int64(80575)"
            ]
          },
          "execution_count": 79,
          "metadata": {},
          "output_type": "execute_result"
        }
      ],
      "source": [
        "df_final['Diabetes_Risk'].isna().sum()\n"
      ]
    },
    {
      "cell_type": "code",
      "execution_count": 80,
      "metadata": {
        "colab": {
          "base_uri": "https://localhost:8080/"
        },
        "id": "71Qqrp0h2rvI",
        "outputId": "e85a62dd-684c-451a-e7cf-c552b0944ec1"
      },
      "outputs": [
        {
          "name": "stdout",
          "output_type": "stream",
          "text": [
            "\n",
            "Training model for Diabetes_Risk...\n",
            "Skipping Diabetes_Risk due to insufficient data: 0 rows\n",
            "\n",
            "Training model for Hypertension_Risk...\n",
            "Skipping Hypertension_Risk due to insufficient data: 0 rows\n",
            "\n",
            "Training model for CKD_Risk...\n",
            "Skipping CKD_Risk due to insufficient data: 0 rows\n",
            "\n",
            "Training model for Cardio_Risk...\n",
            "Skipping Cardio_Risk due to insufficient data: 0 rows\n",
            "\n",
            "Training model for Cholesterol_Level...\n",
            "Skipping Cholesterol_Level due to insufficient data: 0 rows\n"
          ]
        }
      ],
      "source": [
        "from xgboost import XGBClassifier\n",
        "from sklearn.model_selection import train_test_split\n",
        "from sklearn.metrics import classification_report, accuracy_score\n",
        "\n",
        "models = {}\n",
        "\n",
        "for target in targets:\n",
        "    print(f\"\\nTraining model for {target}...\")\n",
        "\n",
        "    # Drop rows with NA in features or current target\n",
        "    data = df_final[features + [target]].dropna()\n",
        "\n",
        "    if data.shape[0] < 100:  # Skip if too little data\n",
        "        print(f\"Skipping {target} due to insufficient data: {data.shape[0]} rows\")\n",
        "        continue\n",
        "\n",
        "    X = data[features]\n",
        "    y = data[target]\n",
        "\n",
        "    # Encode categorical targets if needed\n",
        "    if y.dtype == 'object':\n",
        "        y = y.astype('category').cat.codes\n",
        "\n",
        "    # Train-Test Split\n",
        "    try:\n",
        "        X_train, X_test, y_train, y_test = train_test_split(\n",
        "            X, y, test_size=0.2, stratify=y, random_state=42\n",
        "        )\n",
        "    except ValueError as e:\n",
        "        print(f\"Skipping {target} due to split error: {e}\")\n",
        "        continue\n",
        "\n",
        "    # Model Training\n",
        "    model = XGBClassifier(use_label_encoder=False, eval_metric='logloss')\n",
        "    model.fit(X_train, y_train)\n",
        "\n",
        "    # Evaluation\n",
        "    y_pred = model.predict(X_test)\n",
        "    acc = accuracy_score(y_test, y_pred)\n",
        "    print(f\"Accuracy for {target}: {acc:.2f}\")\n",
        "    print(classification_report(y_test, y_pred))\n",
        "\n",
        "    # Save model\n",
        "    models[target] = model\n"
      ]
    },
    {
      "cell_type": "code",
      "execution_count": 81,
      "metadata": {
        "colab": {
          "base_uri": "https://localhost:8080/"
        },
        "id": "L-OYMJYw3Vo6",
        "outputId": "828ef9c9-0fcd-4782-cf76-c65c83fe95df"
      },
      "outputs": [
        {
          "name": "stdout",
          "output_type": "stream",
          "text": [
            "768\n",
            "253680\n"
          ]
        }
      ],
      "source": [
        "print(len(df_pima_clean))        # For Diabetes_Risk\n",
        "print(len(df_health_clean))      # For Hypertension_Risk\n",
        "# (Add more if you have others)\n"
      ]
    },
    {
      "cell_type": "code",
      "execution_count": 82,
      "metadata": {
        "id": "uUZgKtjq4FXY"
      },
      "outputs": [],
      "source": [
        "# Fill Diabetes_Risk (first 768 rows)\n",
        "df_final.loc[:767, 'Diabetes_Risk'] = df_pima_clean['Diabetes_Risk'].values\n",
        "\n",
        "# Fill Hypertension_Risk (first 253680 rows)\n",
        "df_final.loc[:253679, 'Hypertension_Risk'] = df_health_clean['Hypertension_Risk'].values\n"
      ]
    },
    {
      "cell_type": "code",
      "execution_count": 83,
      "metadata": {
        "colab": {
          "base_uri": "https://localhost:8080/"
        },
        "id": "WndPaZ2R4VvR",
        "outputId": "3413ad2d-9c97-48bd-93ec-89dae047fd53"
      },
      "outputs": [
        {
          "name": "stdout",
          "output_type": "stream",
          "text": [
            "Diabetes_Risk filled: 254448\n",
            "Hypertension_Risk filled: 254448\n"
          ]
        }
      ],
      "source": [
        "print(\"Diabetes_Risk filled:\", df_final['Diabetes_Risk'].notna().sum())\n",
        "print(\"Hypertension_Risk filled:\", df_final['Hypertension_Risk'].notna().sum())\n"
      ]
    },
    {
      "cell_type": "code",
      "execution_count": 86,
      "metadata": {
        "colab": {
          "base_uri": "https://localhost:8080/"
        },
        "id": "FlRMIaXR4nqi",
        "outputId": "429c148f-705a-4677-e3b2-321dfbd67b03"
      },
      "outputs": [
        {
          "name": "stdout",
          "output_type": "stream",
          "text": [
            "254448\n",
            "254448\n"
          ]
        }
      ],
      "source": [
        "print(df_final['Diabetes_Risk'].notna().sum())\n",
        "print(df_final['Hypertension_Risk'].notna().sum())\n"
      ]
    },
    {
      "cell_type": "code",
      "execution_count": 87,
      "metadata": {
        "id": "z2bxjBnk4uYj"
      },
      "outputs": [],
      "source": [
        "# Fill first 768 Diabetes rows\n",
        "df_final.loc[:767, 'Diabetes_Risk'] = df_pima_clean['Diabetes_Risk'].values\n",
        "\n",
        "# Fill first 253680 Hypertension rows\n",
        "df_final.loc[:253679, 'Hypertension_Risk'] = df_health_clean['Hypertension_Risk'].values\n"
      ]
    },
    {
      "cell_type": "code",
      "execution_count": 88,
      "metadata": {
        "colab": {
          "base_uri": "https://localhost:8080/"
        },
        "id": "zNo5_u9H4025",
        "outputId": "1e557c54-3235-491e-824e-1a88107bf081"
      },
      "outputs": [
        {
          "name": "stdout",
          "output_type": "stream",
          "text": [
            "254448\n",
            "254448\n"
          ]
        }
      ],
      "source": [
        "print(df_final['Diabetes_Risk'].notna().sum())         # Should be 768\n",
        "print(df_final['Hypertension_Risk'].notna().sum())     # Should be 253680\n"
      ]
    },
    {
      "cell_type": "code",
      "execution_count": 105,
      "metadata": {
        "colab": {
          "base_uri": "https://localhost:8080/"
        },
        "id": "EjsRH7CuLJb8",
        "outputId": "2bc9cf47-0451-4938-f3d6-e1d7397d5798"
      },
      "outputs": [
        {
          "name": "stdout",
          "output_type": "stream",
          "text": [
            "\n",
            "📌 Training model for: Diabetes_Risk\n",
            "✅ Accuracy for Diabetes_Risk: 0.84\n",
            "              precision    recall  f1-score   support\n",
            "\n",
            "         0.0       0.85      0.99      0.91     42841\n",
            "         1.0       0.70      0.03      0.06       980\n",
            "         2.0       0.48      0.03      0.06      7069\n",
            "\n",
            "    accuracy                           0.84     50890\n",
            "   macro avg       0.68      0.35      0.35     50890\n",
            "weighted avg       0.79      0.84      0.78     50890\n",
            "\n",
            "\n",
            "📌 Training model for: Hypertension_Risk\n"
          ]
        },
        {
          "name": "stderr",
          "output_type": "stream",
          "text": [
            "/usr/local/lib/python3.11/dist-packages/xgboost/core.py:158: UserWarning: [08:41:47] WARNING: /workspace/src/learner.cc:740: \n",
            "Parameters: { \"use_label_encoder\" } are not used.\n",
            "\n",
            "  warnings.warn(smsg, UserWarning)\n"
          ]
        },
        {
          "name": "stdout",
          "output_type": "stream",
          "text": [
            "✅ Accuracy for Hypertension_Risk: 0.57\n",
            "              precision    recall  f1-score   support\n",
            "\n",
            "         0.0       0.57      0.99      0.73     29055\n",
            "         1.0       0.47      0.01      0.02     21835\n",
            "\n",
            "    accuracy                           0.57     50890\n",
            "   macro avg       0.52      0.50      0.37     50890\n",
            "weighted avg       0.53      0.57      0.42     50890\n",
            "\n",
            "\n",
            "📌 Training model for: CKD_Risk\n",
            "❌ Skipping CKD_Risk — too few samples: 0\n",
            "\n",
            "📌 Training model for: Cardio_Risk\n"
          ]
        },
        {
          "name": "stderr",
          "output_type": "stream",
          "text": [
            "/usr/local/lib/python3.11/dist-packages/xgboost/core.py:158: UserWarning: [08:41:49] WARNING: /workspace/src/learner.cc:740: \n",
            "Parameters: { \"use_label_encoder\" } are not used.\n",
            "\n",
            "  warnings.warn(smsg, UserWarning)\n"
          ]
        },
        {
          "name": "stdout",
          "output_type": "stream",
          "text": [
            "✅ Accuracy for Cardio_Risk: 0.72\n",
            "              precision    recall  f1-score   support\n",
            "\n",
            "           0       0.71      0.76      0.73      7004\n",
            "           1       0.74      0.68      0.71      6996\n",
            "\n",
            "    accuracy                           0.72     14000\n",
            "   macro avg       0.72      0.72      0.72     14000\n",
            "weighted avg       0.72      0.72      0.72     14000\n",
            "\n",
            "\n",
            "📌 Training model for: Cholesterol_Level\n"
          ]
        },
        {
          "name": "stderr",
          "output_type": "stream",
          "text": [
            "/usr/local/lib/python3.11/dist-packages/xgboost/core.py:158: UserWarning: [08:41:49] WARNING: /workspace/src/learner.cc:740: \n",
            "Parameters: { \"use_label_encoder\" } are not used.\n",
            "\n",
            "  warnings.warn(smsg, UserWarning)\n"
          ]
        },
        {
          "name": "stdout",
          "output_type": "stream",
          "text": [
            "✅ Accuracy for Cholesterol_Level: 0.75\n",
            "              precision    recall  f1-score   support\n",
            "\n",
            "           0       0.75      1.00      0.86     10477\n",
            "           1       0.21      0.00      0.01      1910\n",
            "           2       0.33      0.01      0.02      1613\n",
            "\n",
            "    accuracy                           0.75     14000\n",
            "   macro avg       0.43      0.34      0.29     14000\n",
            "weighted avg       0.63      0.75      0.64     14000\n",
            "\n",
            "\n",
            "📊 Model Performance Summary:\n",
            "           Target  Samples  Accuracy  F1-Score (Macro)\n",
            "    Diabetes_Risk   254448    0.8421            0.3470\n",
            "Hypertension_Risk   254448    0.5705            0.3708\n",
            "      Cardio_Risk    70000    0.7202            0.7199\n",
            "Cholesterol_Level    70000    0.7468            0.2942\n"
          ]
        }
      ],
      "source": [
        "from xgboost import XGBClassifier\n",
        "from sklearn.model_selection import train_test_split\n",
        "from sklearn.metrics import classification_report, accuracy_score, f1_score\n",
        "import pandas as pd\n",
        "import numpy as np\n",
        "\n",
        "# -----------------------\n",
        "# Features and Targets\n",
        "# -----------------------\n",
        "features = [\n",
        "    'Age', 'BMI', 'Smoking', 'Alcohol', 'Physical_Activity',\n",
        "    'Systolic_BP', 'Diastolic_BP', 'Fasting_Glucose', 'Income'\n",
        "]\n",
        "\n",
        "targets = ['Diabetes_Risk', 'Hypertension_Risk', 'CKD_Risk',\n",
        "           'Cardio_Risk', 'Cholesterol_Level']\n",
        "\n",
        "# -----------------------\n",
        "# Clean and Fill Data\n",
        "# -----------------------\n",
        "# Assuming df_final is already loaded\n",
        "df_final[features] = df_final[features].fillna(df_final[features].median())\n",
        "\n",
        "models = {}\n",
        "summary = []  # For final summary table\n",
        "\n",
        "# -----------------------\n",
        "# Model Training Loop\n",
        "# -----------------------\n",
        "for target in targets:\n",
        "    print(f\"\\n📌 Training model for: {target}\")\n",
        "\n",
        "    # Drop rows where target is missing\n",
        "    df_target = df_final[features + [target]].dropna(subset=[target])\n",
        "\n",
        "    if df_target.shape[0] < 100:\n",
        "        print(f\"❌ Skipping {target} — too few samples: {df_target.shape[0]}\")\n",
        "        continue\n",
        "\n",
        "    X = df_target[features]\n",
        "    y = df_target[target]\n",
        "\n",
        "    # Encode categorical targets\n",
        "    if y.dtype == 'object' or str(y.dtype).startswith('category'):\n",
        "        y = y.astype('category').cat.codes\n",
        "\n",
        "    try:\n",
        "        X_train, X_test, y_train, y_test = train_test_split(\n",
        "            X, y, test_size=0.2, stratify=y, random_state=42\n",
        "        )\n",
        "    except ValueError as e:\n",
        "        print(f\"⚠️ Skipping {target} due to stratify error: {e}\")\n",
        "        continue\n",
        "\n",
        "    # Model training\n",
        "    model = XGBClassifier(use_label_encoder=False, eval_metric='logloss', random_state=42)\n",
        "    model.fit(X_train, y_train)\n",
        "\n",
        "    # Predictions and Evaluation\n",
        "    y_pred = model.predict(X_test)\n",
        "    acc = accuracy_score(y_test, y_pred)\n",
        "    f1 = f1_score(y_test, y_pred, average='macro')\n",
        "\n",
        "    print(f\"✅ Accuracy for {target}: {acc:.2f}\")\n",
        "    print(classification_report(y_test, y_pred))\n",
        "\n",
        "    # Store model and summary\n",
        "    models[target] = model\n",
        "    summary.append({\n",
        "        \"Target\": target,\n",
        "        \"Samples\": len(y),\n",
        "        \"Accuracy\": round(acc, 4),\n",
        "        \"F1-Score (Macro)\": round(f1, 4)\n",
        "    })\n",
        "\n",
        "# -----------------------\n",
        "# Summary Table\n",
        "# -----------------------\n",
        "summary_df = pd.DataFrame(summary)\n",
        "print(\"\\n📊 Model Performance Summary:\")\n",
        "print(summary_df.to_string(index=False))\n"
      ]
    },
    {
      "cell_type": "code",
      "execution_count": 102,
      "metadata": {
        "id": "5aeyzzZo_gvV"
      },
      "outputs": [],
      "source": [
        "import joblib\n",
        "\n",
        "# Saving\n",
        "for disease, model in models.items():\n",
        "    joblib.dump(model, f\"{disease}_model.pkl\")\n",
        "\n",
        "# Loading later\n",
        "models = {}\n",
        "for disease in ['Diabetes_Risk', 'Hypertension_Risk', 'Cardio_Risk', 'Cholesterol_Level']:\n",
        "    models[disease] = joblib.load(f\"{disease}_model.pkl\")\n"
      ]
    },
    {
      "cell_type": "markdown",
      "metadata": {
        "id": "7lXUuPRO8-tZ"
      },
      "source": []
    }
  ],
  "metadata": {
    "colab": {
      "provenance": []
    },
    "kernelspec": {
      "display_name": "Python 3",
      "name": "python3"
    },
    "language_info": {
      "name": "python"
    }
  },
  "nbformat": 4,
  "nbformat_minor": 0
}
